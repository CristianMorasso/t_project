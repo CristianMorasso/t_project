{
 "cells": [
  {
   "cell_type": "code",
   "execution_count": 1,
   "metadata": {},
   "outputs": [],
   "source": [
    "import numpy as np"
   ]
  },
  {
   "cell_type": "code",
   "execution_count": 2,
   "metadata": {},
   "outputs": [],
   "source": [
    "tot_obs = np.load(\"vel_comm_obs.npy\")\n",
    "tot_actions = np.load(\"vel_comm_actions.npy\")"
   ]
  },
  {
   "cell_type": "code",
   "execution_count": 3,
   "metadata": {},
   "outputs": [
    {
     "data": {
      "text/plain": [
       "((5000, 3, 18), (5000, 3, 1, 5))"
      ]
     },
     "execution_count": 3,
     "metadata": {},
     "output_type": "execute_result"
    }
   ],
   "source": [
    "tot_obs.shape, tot_actions.shape"
   ]
  },
  {
   "cell_type": "markdown",
   "metadata": {},
   "source": [
    "## Extracting examples for agent and action "
   ]
  },
  {
   "cell_type": "code",
   "execution_count": 4,
   "metadata": {},
   "outputs": [],
   "source": [
    "AGENT = 0 \n",
    "ACTION = 1\n",
    "OPPOSITE_ACTION = 2 "
   ]
  },
  {
   "cell_type": "code",
   "execution_count": 5,
   "metadata": {},
   "outputs": [],
   "source": [
    "#indexes for action\n",
    "obs_by_act = [[],[],[],[],[]]\n",
    "agent_acts = tot_actions[:,AGENT].squeeze()\n",
    "agent_obs = tot_obs[:,AGENT]\n",
    "for a, o in zip(agent_acts, agent_obs):\n",
    "    obs_by_act[int((a[2]-a[1])>0 )+1].append(o)"
   ]
  },
  {
   "cell_type": "code",
   "execution_count": 28,
   "metadata": {},
   "outputs": [],
   "source": [
    "delta_x = np.array(obs_by_act[ACTION])[:,4]\n",
    "delta_y = np.array(obs_by_act[ACTION])[:,0]\n",
    "opp_delta_x = np.array(obs_by_act[OPPOSITE_ACTION])[:,4]\n",
    "opp_delta_y = np.array(obs_by_act[OPPOSITE_ACTION])[:,0]"
   ]
  },
  {
   "cell_type": "code",
   "execution_count": 29,
   "metadata": {},
   "outputs": [],
   "source": [
    "def create_context(obs, string):\n",
    "    s = \"{\"\n",
    "    s+= f\"{string[0]}({obs[0]}). \"\n",
    "    s+= f\"{string[1]}({obs[1]}).\"\n",
    "    s+= \"}\"\n",
    "    return s \n"
   ]
  },
  {
   "cell_type": "code",
   "execution_count": 30,
   "metadata": {},
   "outputs": [],
   "source": [
    "# for x,y in zip(delta_x,delta_y):\n",
    "    # print(create_context([x,y], [\"delta_x\", \"delta_y\"]))"
   ]
  },
  {
   "cell_type": "markdown",
   "metadata": {},
   "source": [
    "## Discretizing obs"
   ]
  },
  {
   "cell_type": "code",
   "execution_count": 31,
   "metadata": {},
   "outputs": [],
   "source": [
    "def discretize_int(data, multi=10):\n",
    "    data = np.round(data*multi,0)\n",
    "    return data.astype(int)"
   ]
  },
  {
   "cell_type": "code",
   "execution_count": 32,
   "metadata": {},
   "outputs": [],
   "source": [
    "disc_delta_x = discretize_int(delta_x)\n",
    "disc_delta_y = discretize_int(delta_y)\n",
    "disc_opp_delta_x = discretize_int(opp_delta_x)\n",
    "disc_opp_delta_y = discretize_int(opp_delta_y)"
   ]
  },
  {
   "cell_type": "code",
   "execution_count": 33,
   "metadata": {},
   "outputs": [],
   "source": [
    "def get_action_string():\n",
    "    act_dict = {\n",
    "        0: \"BHO\",\n",
    "        1: \"left\",\n",
    "        2: \"right\",\n",
    "        3: \"down\",\n",
    "        4: \"up\"\n",
    "    }\n",
    "    return \"{\"+act_dict[ACTION]+\"}\""
   ]
  },
  {
   "cell_type": "code",
   "execution_count": 34,
   "metadata": {},
   "outputs": [
    {
     "data": {
      "text/plain": [
       "'{left}'"
      ]
     },
     "execution_count": 34,
     "metadata": {},
     "output_type": "execute_result"
    }
   ],
   "source": [
    "get_action_string()"
   ]
  },
  {
   "cell_type": "markdown",
   "metadata": {},
   "source": [
    "## Example parser"
   ]
  },
  {
   "cell_type": "code",
   "execution_count": 35,
   "metadata": {},
   "outputs": [],
   "source": [
    "def write_example(obs, string, iter, pos=True):\n",
    "    if pos:\n",
    "        return f\"#pos(ex{iter}, {get_action_string()}, {{}}, {create_context(obs, string)}).\\n\"\n",
    "    else:\n",
    "        return f\"#pos(ex{iter}, {{}}, {get_action_string()}, {create_context(obs, string)}).\\n\""
   ]
  },
  {
   "cell_type": "code",
   "execution_count": 36,
   "metadata": {},
   "outputs": [],
   "source": [
    "# ex_set = set()\n",
    "# for iter, obs in enumerate(zip(disc_delta_x,disc_delta_y)):\n",
    "#     ex_set.add(write_example(obs,[\"delta_x\", \"delta_y\"],1, True))\n",
    "# for iter2, obs in enumerate(zip(disc_opp_delta_x,disc_opp_delta_y)):\n",
    "#     ex_set.add(write_example(obs,[\"delta_x\", \"delta_y\"],1, False))\n",
    "# len(ex_set)"
   ]
  },
  {
   "cell_type": "code",
   "execution_count": 37,
   "metadata": {},
   "outputs": [
    {
     "data": {
      "text/plain": [
       "(2577, 2423)"
      ]
     },
     "execution_count": 37,
     "metadata": {},
     "output_type": "execute_result"
    }
   ],
   "source": [
    "len(delta_x), len(disc_opp_delta_x)"
   ]
  },
  {
   "cell_type": "code",
   "execution_count": 38,
   "metadata": {},
   "outputs": [],
   "source": [
    "# with open(f\"vel_comm_example_{ACTION}.txt\", \"w\") as file: \n",
    "#     for ex in ex_set:\n",
    "#         file.write(ex)\n"
   ]
  },
  {
   "cell_type": "code",
   "execution_count": 40,
   "metadata": {},
   "outputs": [],
   "source": [
    "check_Set = set()\n",
    "with open(f\"vel_comm_example_{ACTION}.txt\", \"w\") as file: \n",
    "    for iter, obs in enumerate(zip(disc_delta_x,disc_delta_y)):\n",
    "        if not (*obs, ACTION) in check_Set:\n",
    "            file.write(write_example(obs,[\"delta\", \"pos\"],iter, True))\n",
    "            check_Set.add((*obs, ACTION))\n",
    "    for iter2, obs in enumerate(zip(disc_opp_delta_x,disc_opp_delta_y)):\n",
    "        if not (*obs, ACTION) in check_Set:\n",
    "            file.write(write_example(obs,[\"delta\", \"pos\"],iter+iter2, False))\n",
    "            check_Set.add((*obs, ACTION))\n",
    "file.close()"
   ]
  },
  {
   "cell_type": "code",
   "execution_count": null,
   "metadata": {},
   "outputs": [],
   "source": []
  }
 ],
 "metadata": {
  "kernelspec": {
   "display_name": "Python 3",
   "language": "python",
   "name": "python3"
  },
  "language_info": {
   "codemirror_mode": {
    "name": "ipython",
    "version": 3
   },
   "file_extension": ".py",
   "mimetype": "text/x-python",
   "name": "python",
   "nbconvert_exporter": "python",
   "pygments_lexer": "ipython3",
   "version": "3.8.10"
  }
 },
 "nbformat": 4,
 "nbformat_minor": 2
}
